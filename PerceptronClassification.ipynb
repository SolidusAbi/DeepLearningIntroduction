{
 "cells": [
  {
   "cell_type": "code",
   "execution_count": null,
   "metadata": {},
   "outputs": [],
   "source": [
    "import numpy as np\n",
    "from matplotlib import pyplot as plt\n",
    "import torch\n",
    "import torch.nn as nn"
   ]
  },
  {
   "cell_type": "markdown",
   "metadata": {},
   "source": [
    "# Dataset"
   ]
  },
  {
   "cell_type": "code",
   "execution_count": null,
   "metadata": {},
   "outputs": [],
   "source": [
    "n_samples = 10\n",
    "cluster_radius = 3.5\n",
    "dataset = np.zeros((n_samples * 2, 3), dtype=np.float32)"
   ]
  },
  {
   "cell_type": "markdown",
   "metadata": {},
   "source": [
    "## Cluster 0"
   ]
  },
  {
   "cell_type": "code",
   "execution_count": null,
   "metadata": {},
   "outputs": [],
   "source": [
    "centroid_0 = np.array([1, 1], dtype=np.float32)\n",
    "\n",
    "sample_radio = (cluster_radius * np.random.uniform(0, 1, n_samples))\n",
    "sample_angl = (2 * np.pi * np.random.uniform(0, 1, n_samples))\n",
    "\n",
    "dataset[:n_samples, 0] = centroid_0[0] + sample_radio[:]*(np.cos(sample_angl[:]))\n",
    "dataset[:n_samples, 1] = centroid_0[1] + sample_radio[:]*(np.sin(sample_angl[:]))"
   ]
  },
  {
   "cell_type": "markdown",
   "metadata": {},
   "source": [
    "## Cluster 1"
   ]
  },
  {
   "cell_type": "code",
   "execution_count": null,
   "metadata": {},
   "outputs": [],
   "source": [
    "centroid_1 = np.array([8, 8], dtype=np.float32)\n",
    "\n",
    "sample_radio = (cluster_radius * np.random.uniform(0, 1, n_samples))\n",
    "sample_angl = (2 * np.pi * np.random.uniform(0, 1, n_samples))\n",
    "\n",
    "dataset[n_samples:, 0] = centroid_1[0] + sample_radio[:]*(np.cos(sample_angl[:]))\n",
    "dataset[n_samples:, 1] = centroid_1[1] + sample_radio[:]*(np.sin(sample_angl[:]))\n",
    "dataset[n_samples:, 2] = 1"
   ]
  },
  {
   "cell_type": "code",
   "execution_count": null,
   "metadata": {},
   "outputs": [],
   "source": [
    "print(dataset.shape)\n",
    "print(dataset[12:15])"
   ]
  },
  {
   "cell_type": "markdown",
   "metadata": {},
   "source": [
    "## Visualization"
   ]
  },
  {
   "cell_type": "code",
   "execution_count": null,
   "metadata": {},
   "outputs": [],
   "source": [
    "plt.scatter(dataset[:n_samples, 0], dataset[:n_samples, 1])\n",
    "plt.scatter(dataset[n_samples:, 0], dataset[n_samples:, 1])\n",
    "plt.scatter(centroid_0[0], centroid_0[1], color=\"yellow\")\n",
    "plt.scatter(centroid_1[0], centroid_1[1], color=\"yellow\")\n",
    "plt.show()"
   ]
  },
  {
   "cell_type": "markdown",
   "metadata": {},
   "source": [
    "# Preparar dataset en PyTorch"
   ]
  },
  {
   "cell_type": "code",
   "execution_count": null,
   "metadata": {},
   "outputs": [],
   "source": [
    "from torch.utils.data import Dataset\n",
    "from torch import tensor\n",
    "\n",
    "class ClassificationDataset(Dataset):\n",
    "    def __init__(self, n_samples_per_class, centroid_0, radius_0, centroid_1, radius_1):\n",
    "        self.dataset = np.zeros((n_samples_per_class * 2, 3), dtype=np.float32)\n",
    "        self.createDataset(n_samples_per_class, centroid_0, radius_0, centroid_1, radius_1)\n",
    "        \n",
    "        self.n_samples = n_samples_per_class\n",
    "        self.centroid_0 = centroid_0\n",
    "        self.centroid_1 = centroid_1\n",
    "        \n",
    "    def __len__(self):\n",
    "        return self.dataset.shape[0]\n",
    "    \n",
    "    def __getitem__(self, idx):\n",
    "        x = tensor(self.dataset[idx, [0,1]])\n",
    "        y = tensor(self.dataset[idx, 1])\n",
    "            \n",
    "        return [x, y]\n",
    "    \n",
    "    def createDataset(self, n_samples_per_class, centroid_0, radius_0, centroid_1, radius_1):\n",
    "        sample_radio_0 = (radius_0 * np.random.uniform(0, 1, n_samples_per_class))\n",
    "        sample_angl_0 = (2 * np.pi * np.random.uniform(0, 1, n_samples_per_class))\n",
    "        self.dataset[:n_samples_per_class, 0] = centroid_0[0] + sample_radio_0[:]*(np.cos(sample_angl_0[:]))\n",
    "        self.dataset[:n_samples_per_class, 1] = centroid_0[1] + sample_radio_0[:]*(np.sin(sample_angl_0[:]))\n",
    "        \n",
    "        sample_radio_1 = (cluster_radius * np.random.uniform(0, 1, n_samples_per_class))\n",
    "        sample_angl_1 = (2 * np.pi * np.random.uniform(0, 1, n_samples_per_class))\n",
    "\n",
    "        self.dataset[n_samples_per_class:, 0] = centroid_1[0] + sample_radio_1[:]*(np.cos(sample_angl_1[:]))\n",
    "        self.dataset[n_samples_per_class:, 1] = centroid_1[1] + sample_radio_1[:]*(np.sin(sample_angl_1[:]))\n",
    "        self.dataset[n_samples_per_class:, 2] = 1\n",
    "        \n",
    "    def show(self):\n",
    "        plt.scatter(self.dataset[:self.n_samples, 0], self.dataset[:self.n_samples, 1])\n",
    "        plt.scatter(self.dataset[self.n_samples:, 0], self.dataset[self.n_samples:, 1])\n",
    "        plt.scatter(self.centroid_0[0], self.centroid_0[1], color=\"yellow\")\n",
    "        plt.scatter(self.centroid_1[0], self.centroid_1[1], color=\"yellow\")\n",
    "        plt.show()"
   ]
  },
  {
   "cell_type": "code",
   "execution_count": null,
   "metadata": {
    "scrolled": false
   },
   "outputs": [],
   "source": [
    "from torch.utils.data import DataLoader\n",
    "\n",
    "# n_samples_per_class, centroid_0, radius_0, centroid_1, radius_1\n",
    "\n",
    "n_samples = 12\n",
    "cluster_radius = 3.5\n",
    "centroid_0 = np.array([1, 1], dtype=np.float32)\n",
    "centroid_1 = np.array([8, 8], dtype=np.float32)\n",
    "\n",
    "\n",
    "train_set = ClassificationDataset(n_samples, centroid_0, cluster_radius, centroid_1, cluster_radius)\n",
    "validation_set = ClassificationDataset(12, centroid_0, cluster_radius, centroid_1, cluster_radius)\n",
    "\n",
    "train_set.show()\n",
    "\n",
    "batch_size = 21\n",
    "\n",
    "dataloaders = {\n",
    "    'train': DataLoader(train_set, batch_size=batch_size, shuffle=True, num_workers=0),\n",
    "    'validation': DataLoader(validation_set, batch_size=batch_size, shuffle=True, num_workers=0),\n",
    "}\n",
    "\n",
    "for inputs, labels in dataloaders['train']:\n",
    "     print(inputs.size())\n",
    "     print(labels.size())\n",
    "    "
   ]
  },
  {
   "cell_type": "markdown",
   "metadata": {},
   "source": [
    "# Perceptron"
   ]
  },
  {
   "cell_type": "code",
   "execution_count": null,
   "metadata": {},
   "outputs": [],
   "source": [
    "class Perceptron(nn.Module):\n",
    "    def __init__(self, input_size, output_size):\n",
    "        super().__init__()\n",
    "        self.linear = torch.nn.Linear(input_size, output_size)\n",
    "        self.activation = torch.nn.Sigmoid() #TODO\n",
    "        \n",
    "    def forward(self, x):\n",
    "        out = self.linear(x)\n",
    "        return self.activation(out)"
   ]
  },
  {
   "cell_type": "markdown",
   "metadata": {},
   "source": [
    "# Método de entrenamiento"
   ]
  },
  {
   "cell_type": "code",
   "execution_count": null,
   "metadata": {},
   "outputs": [],
   "source": [
    "import copy \n",
    "from torch.autograd import Variable\n",
    "\n",
    "def train(dataset, model, optimizer, criterion, num_epochs=25):\n",
    "    best_model_weigths = copy.deepcopy(model.state_dict())\n",
    "    best_loss = 1e10\n",
    "    \n",
    "    device = torch.device(\"cpu\")\n",
    "    if torch.cuda.is_available:\n",
    "        device=torch.device(\"cuda\")  \n",
    "    \n",
    "    for epoch in range(num_epochs):\n",
    "        inputs = torch.tensor(dataset['x']).to(device)\n",
    "        targets = torch.tensor(dataset['y']).to(device)\n",
    "        \n",
    "        optimizer.zero_grad()\n",
    "        outputs = model(inputs)\n",
    "        \n",
    "        loss = criterion(outputs, targets)\n",
    "            \n",
    "        # get gradients w.r.t to parameters\n",
    "        loss.backward()\n",
    "\n",
    "        # update parameters\n",
    "        optimizer.step()\n",
    "        \n",
    "        # LOG\n",
    "        if (epoch % 10 == 0):\n",
    "            print('epoch {}, loss {}'.format(epoch, loss.item()))\n",
    "        \n",
    "        if (loss.item() < best_loss):\n",
    "            best_loss = loss.item()\n",
    "            best_model_weigths = copy.deepcopy(model.state_dict())\n",
    "        \n",
    "    print('epoch {}, loss {}'.format(epoch, loss.item()))\n",
    "    print('Best loss: {}'.format(best_loss))\n",
    "            \n",
    "    model.load_state_dict(best_model_weigths)"
   ]
  },
  {
   "cell_type": "markdown",
   "metadata": {},
   "source": [
    "# Creación del modelo"
   ]
  },
  {
   "cell_type": "code",
   "execution_count": null,
   "metadata": {},
   "outputs": [],
   "source": [
    "input_dim = 2        # takes variable 'x' \n",
    "output_dim = 1       # takes variable 'y'\n",
    "\n",
    "device=torch.device(\"cpu\")\n",
    "if torch.cuda.is_available:\n",
    "    device=torch.device(\"cuda\")\n",
    "\n",
    "model = Perceptron(input_dim, output_dim).to(device)"
   ]
  },
  {
   "cell_type": "markdown",
   "metadata": {},
   "source": [
    "# Prueba"
   ]
  },
  {
   "cell_type": "code",
   "execution_count": null,
   "metadata": {},
   "outputs": [],
   "source": [
    "training_dataset = {'x': dataset[:, [0,1]], 'y': dataset[:, 2].reshape((-1, 1))}"
   ]
  },
  {
   "cell_type": "code",
   "execution_count": null,
   "metadata": {
    "scrolled": true
   },
   "outputs": [],
   "source": [
    "learningRate = 0.01\n",
    "epochs = 1000\n",
    "criterion = torch.nn.BCELoss() \n",
    "optimizer = torch.optim.SGD(model.parameters(), lr=learningRate)\n",
    "\n",
    "train(training_dataset, model, optimizer, criterion, num_epochs=epochs)"
   ]
  },
  {
   "cell_type": "code",
   "execution_count": null,
   "metadata": {},
   "outputs": [],
   "source": []
  }
 ],
 "metadata": {
  "kernelspec": {
   "display_name": "Python 3",
   "language": "python",
   "name": "python3"
  },
  "language_info": {
   "codemirror_mode": {
    "name": "ipython",
    "version": 3
   },
   "file_extension": ".py",
   "mimetype": "text/x-python",
   "name": "python",
   "nbconvert_exporter": "python",
   "pygments_lexer": "ipython3",
   "version": "3.9.7"
  }
 },
 "nbformat": 4,
 "nbformat_minor": 2
}
